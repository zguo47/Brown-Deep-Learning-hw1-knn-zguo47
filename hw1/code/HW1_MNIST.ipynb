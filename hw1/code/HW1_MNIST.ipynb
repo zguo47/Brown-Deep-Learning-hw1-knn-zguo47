{
 "cells": [
  {
   "cell_type": "markdown",
   "id": "feaf97a5-c158-4810-862d-ff2a864282a6",
   "metadata": {},
   "source": [
    "# CS1470/2470 HW1: KNN (with MNIST)\n",
    "\n",
    "In this homework assignment, you will experience the overall machine learning process from start to end by implementing your own version of the **k-Nearest Neighbors** algorithm."
   ]
  },
  {
   "cell_type": "code",
   "execution_count": null,
   "id": "7c7eb7b2-da1e-4db4-9eb5-a4f65fa194ac",
   "metadata": {},
   "outputs": [],
   "source": [
    "!python -VV"
   ]
  },
  {
   "cell_type": "markdown",
   "id": "e1fcb62b-f52d-4c89-bad3-d2421bbfa8d9",
   "metadata": {},
   "source": [
    "If you are running the notebook on Colab, you need to mount your drive or repo. An example of these is provided [here](https://colab.research.google.com/drive/1ioIGn7zOp46lgMEcL4P54Y9Y_z7PnI7K?usp=sharing)."
   ]
  },
  {
   "cell_type": "code",
   "execution_count": null,
   "id": "d09125e0-1ed1-4561-a965-442cbfc3b75c",
   "metadata": {},
   "outputs": [],
   "source": [
    "import os\n",
    "import sys\n",
    "\n",
    "## Path to data\n",
    "data_path = \"../data\"\n",
    "\n",
    "## Make sure the data is downloaded appropriately\n",
    "![ ! -d \"$data_path\" ] && cd .. && bash download.sh && cd code"
   ]
  },
  {
   "cell_type": "code",
   "execution_count": null,
   "id": "3b8191a9-a64b-4066-845c-7d4cab93ecef",
   "metadata": {},
   "outputs": [],
   "source": [
    "%load_ext autoreload\n",
    "%autoreload 1\n",
    "%aimport KNN_Model, preprocess\n",
    "\n",
    "import matplotlib.pyplot as plt\n",
    "import numpy as np"
   ]
  },
  {
   "cell_type": "markdown",
   "id": "b096104d-7709-4048-a511-ea2ab8139660",
   "metadata": {},
   "source": [
    "## Preprocessing"
   ]
  },
  {
   "cell_type": "markdown",
   "id": "9c3c7720-f3a2-4046-bd20-b797921ac3c7",
   "metadata": {},
   "source": [
    "### Data Preparation"
   ]
  },
  {
   "cell_type": "markdown",
   "id": "263cd8a8-4f7e-44d5-81e2-ef1e7d6e0e1d",
   "metadata": {},
   "source": [
    "In a machine learning project, you need a separate train set and a test set. Sometimes, you also need a validation set to fit hyperparameters, but for this homework assignment, we are not going to use a validation set. "
   ]
  },
  {
   "cell_type": "markdown",
   "id": "49afba77-6938-4c28-83c8-8d18ae638fc4",
   "metadata": {},
   "source": [
    "<span style=\"color:blue;font-weight:bold\">Code Block #1: Preprocessing</span>\n",
    "\n",
    "1. Load the full train and test datasets by using the function `get_data_MNIST` in `preprocess.py`.\n",
    "   - DO NOT shuffle the dataset. It's usually a good practice to do so, but don't do it here for the sake of simplicity. You will shuffle the dataset at the CIFAR part of the hoemwork assignment.\n",
    "2. Keep only a small subset of the full datasets by using the function `get_subset` in `preprocess.py`.\n",
    "   - For the train set, keep only 1000 images and labels for each digit, so that your train image array should have the shape (10000, 784), and your train label array should have the shape (10000,)\n",
    "   - For the test set, 250 images and labels for each digit, so the shapes are (2500, 784), and (2500,)."
   ]
  },
  {
   "cell_type": "code",
   "execution_count": null,
   "id": "ee18cca2-a70e-415e-99e6-0653a8edc936",
   "metadata": {},
   "outputs": [],
   "source": [
    "from preprocess import *\n",
    "\n",
    "digit_list = [0, 1, 2, 3, 4, 5, 6, 7, 8, 9]\n",
    "\n",
    "## TODO: Implement preprocessing step as described above, \n",
    "## implementing preprocess.py in the process\n",
    "image_train_full, label_train_full = None, None\n",
    "image_test_full,  label_test_full  = None, None\n",
    "\n",
    "image_train, label_train = None, None\n",
    "image_test,  label_test  = None, None"
   ]
  },
  {
   "cell_type": "markdown",
   "id": "e46489fd-7730-47ac-abb7-730f7ee31e75",
   "metadata": {},
   "source": [
    "### Data Visualization"
   ]
  },
  {
   "cell_type": "markdown",
   "id": "e859a4b8-a0d8-4f3c-96cd-00c68846d15d",
   "metadata": {},
   "source": [
    "Matplotlib's pyplot module is a good starting point to create a quick and dirty way of visually inspecting your data."
   ]
  },
  {
   "cell_type": "code",
   "execution_count": null,
   "id": "da08852d-feaf-4ce4-8ce6-a890a1a952fc",
   "metadata": {},
   "outputs": [],
   "source": [
    "plt.imshow(image_test[20].reshape(28, 28), cmap = \"Greys\")\n",
    "plt.xlabel(\"Image Index 100\")\n",
    "plt.title(\"MNIST Digit Example\")"
   ]
  },
  {
   "cell_type": "markdown",
   "id": "b95b3c1c-30c7-4703-a7ce-e1fe2a29934d",
   "metadata": {},
   "source": [
    "However, if you want to do something more complicated, Pyplot's feature is quite limited. You probably want to use the lower-level Figure and Axis API directly."
   ]
  },
  {
   "cell_type": "code",
   "execution_count": null,
   "id": "5f0da441-a844-4967-b744-191cf899e5f5",
   "metadata": {},
   "outputs": [],
   "source": [
    "indices_to_inspect = list(range(0, 1000, 100))\n",
    "\n",
    "fig, ax = plt.subplots(1, 10)\n",
    "fig.set_size_inches(12, 1.2)\n",
    "\n",
    "for i, each_image in enumerate(indices_to_inspect):\n",
    "    ax[i].imshow(image_train[each_image].reshape(28, 28), cmap = \"Greys\")\n",
    "    ax[i].tick_params(left=False)\n",
    "    ax[i].tick_params(bottom=False)\n",
    "    ax[i].tick_params(labelleft=False)\n",
    "    ax[i].tick_params(labelbottom=False)\n",
    "    ax[i].set_xlabel(f\"{each_image}\")"
   ]
  },
  {
   "cell_type": "markdown",
   "id": "c3493a23-9bbf-49ed-b4ae-55750771d4ef",
   "metadata": {},
   "source": [
    "## KNN"
   ]
  },
  {
   "cell_type": "markdown",
   "id": "62e832d3-ec95-4c5f-8807-82ff0a9a5c6a",
   "metadata": {},
   "source": [
    "### Model Building"
   ]
  },
  {
   "cell_type": "markdown",
   "id": "c5777bc5-e0e8-4e50-b3ef-2c86a54e3b69",
   "metadata": {},
   "source": [
    "Now it's time to make your own implementation of the k-Nearest Neighbors algorithm.\n",
    "\n",
    "<span style=\"color:blue;font-weight:bold\">Code Block #2: Building the model</span>\n",
    "\n",
    "Create a KNN model, or an instance of the class KNN_Model and fit it with the train dataset. \n",
    "- Although, `k_neighbors` can be any integer in theory, keep `k_neighbors == 9` in this homework assignment. \n",
    "- The name of the KNN_Model instance must be `model_mnist`, so that you can run the following Code Blocks without trouble."
   ]
  },
  {
   "cell_type": "code",
   "execution_count": null,
   "id": "65c9e6db-5b32-4762-9220-88b1cb730848",
   "metadata": {},
   "outputs": [],
   "source": [
    "from KNN_Model import KNN_Model\n",
    "\n",
    "## TODO: Implement training step as described above, \n",
    "## implementing model.py in the process\n",
    "model_mnist = None"
   ]
  },
  {
   "cell_type": "markdown",
   "id": "483a778a-76e6-41c3-a8ef-6cbedf676f72",
   "metadata": {},
   "source": [
    "We can try the model with a sample image that the model has never seen before."
   ]
  },
  {
   "cell_type": "markdown",
   "id": "01c28e4c-a515-4159-b09a-b469e420d11e",
   "metadata": {},
   "source": [
    "### Model Visualization"
   ]
  },
  {
   "cell_type": "markdown",
   "id": "dab90b36-2bfa-4ada-a3c2-ec79c87ebac6",
   "metadata": {},
   "source": [
    "<span style=\"color:blue;font-weight:bold\">Code Block #3: Interacting with the model</span>"
   ]
  },
  {
   "cell_type": "code",
   "execution_count": null,
   "id": "d7ccc8f1",
   "metadata": {},
   "outputs": [],
   "source": [
    "## Pull in a specific image\n",
    "sample_image = image_test[126].copy()\n",
    "## TODO: Show what the image looks like using plt.imshow"
   ]
  },
  {
   "cell_type": "code",
   "execution_count": null,
   "id": "5befb753-c0d2-4a62-8ccf-f9d48f29caae",
   "metadata": {},
   "outputs": [],
   "source": [
    "## TODO: Figure out the closest k neighbors based on the model.\n",
    "class_counts, nearest_indices = None, None\n",
    "print(class_counts)"
   ]
  },
  {
   "cell_type": "code",
   "execution_count": null,
   "id": "31f68514-2216-4f79-b4c6-7cd21bc09368",
   "metadata": {},
   "outputs": [],
   "source": [
    "fig_knn, ax_knn = plt.subplots()\n",
    "\n",
    "digit_counts = model_mnist.get_neighbor_counts(sample_image)\n",
    "ax_knn.barh(y=digit_list, width=digit_counts, zorder=100)\n",
    "ax_knn.invert_yaxis()\n",
    "ax_knn.set_yticks(digit_list)\n",
    "ax_knn.set_xticks(np.arange(1 + np.max(digit_counts)))\n",
    "ax_knn.set_title(\"KNN Classification on a Test Image\", fontsize=14)\n",
    "ax_knn.set_xlabel(\"True Labels of Nearest Neighbors\", fontsize=14)\n",
    "ax_knn.grid(linestyle=\"dashed\", color=\"#bfbfbf\", zorder=-100)\n",
    "fig_knn.set_size_inches([6, 4])\n",
    "\n",
    "# You can also save the figure in the pdf, png, and svg formats\n",
    "# fig.savefig(f\"KNN_Test_Image_MNIST.png\", dpi=300, bbox_inches=\"tight\")"
   ]
  },
  {
   "cell_type": "code",
   "execution_count": null,
   "id": "f11c6713-3936-4fb4-bffd-f4b5c877ab91",
   "metadata": {},
   "outputs": [],
   "source": [
    "fig_nearest, ax_nearest = plt.subplots(3, 3, figsize=(4.5, 4.5))\n",
    "\n",
    "for each_ax, each_neighbor in zip(ax_nearest.flat, nearest_indices):\n",
    "    each_ax.imshow(model_mnist.image_train[each_neighbor].reshape(28, 28), cmap=\"Greys\")\n",
    "    each_ax.tick_params(bottom=False, left=False, labelbottom=False, labelleft=False)\n",
    "    each_ax.text(2, 5, model_mnist.label_train[each_neighbor], \n",
    "        fontsize=8, bbox = dict(color=\"White\", alpha=0.75))\n",
    "    fig_nearest.suptitle(\"Nearest Images\", y = 0.95)"
   ]
  },
  {
   "cell_type": "markdown",
   "id": "67219270-a711-40b6-8bc2-f2560f20ed4a",
   "metadata": {},
   "source": [
    "## Evaluation"
   ]
  },
  {
   "cell_type": "markdown",
   "id": "7f69e80f-0ecf-4b9f-888c-98dd5f3641f4",
   "metadata": {},
   "source": [
    "It is time to evaluate the model."
   ]
  },
  {
   "cell_type": "markdown",
   "id": "a33acfce-8d5d-4d2c-b49b-edb01117ce93",
   "metadata": {},
   "source": [
    "### Overall Accuracy"
   ]
  },
  {
   "cell_type": "markdown",
   "id": "f26be84e-e880-4f3f-b738-ecab025399b2",
   "metadata": {},
   "source": [
    "<span style=\"color:blue;font-weight:bold\">Code Block #4: Overall accuracy</span>\n",
    "\n",
    "1. Get predictions on every image in the test dataset. \n",
    "2. Calculate and print out the overall accuracy of the model, which is defined as the number of correct predictions divided by the number of all predictions."
   ]
  },
  {
   "cell_type": "code",
   "execution_count": null,
   "id": "ec7f99b9-1ccd-4427-ba05-4e4055f868c5",
   "metadata": {},
   "outputs": [],
   "source": [
    "## TODO: Get predictions on test dataset and calculate accuracy\n",
    "prediction_array = None\n",
    "prediction_acc = None\n",
    "print(f\"accuracy = {prediction_acc}\")"
   ]
  },
  {
   "cell_type": "markdown",
   "id": "8e8cea1a-4e96-4231-a736-fc7649c992c0",
   "metadata": {},
   "source": [
    "### Confusion Matrix"
   ]
  },
  {
   "cell_type": "markdown",
   "id": "b76a3213-9b09-4fe4-b63e-ec57537dfff5",
   "metadata": {},
   "source": [
    "<span style=\"color:blue;font-weight:bold\">Code Block #5: Confusion matrix</span>"
   ]
  },
  {
   "cell_type": "code",
   "execution_count": null,
   "id": "23ed7bb3-5d69-4d8d-a576-4d2fae4b8dd6",
   "metadata": {},
   "outputs": [],
   "source": [
    "## TODO: Get the confusion matrix (hint: see KNN_ConfMtx)\n",
    "confusion_mat = None\n",
    "print(confusion_mat)"
   ]
  },
  {
   "cell_type": "code",
   "execution_count": null,
   "id": "778fccc3-542e-4846-830f-34162d4a03e7",
   "metadata": {},
   "outputs": [],
   "source": [
    "fig_confusion, ax_confusion = model_mnist.visualize_confusion_matrix(confusion_mat)"
   ]
  }
 ],
 "metadata": {
  "interpreter": {
   "hash": "4dbaad81d9a571c8b0dbc47171d237fc074710482b107e40dd0edf35519c9670"
  },
  "kernelspec": {
   "display_name": "Python 3 (ipykernel)",
   "language": "python",
   "name": "python3"
  },
  "language_info": {
   "codemirror_mode": {
    "name": "ipython",
    "version": 3
   },
   "file_extension": ".py",
   "mimetype": "text/x-python",
   "name": "python",
   "nbconvert_exporter": "python",
   "pygments_lexer": "ipython3",
   "version": "3.8.12"
  }
 },
 "nbformat": 4,
 "nbformat_minor": 5
}
